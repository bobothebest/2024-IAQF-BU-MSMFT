{
 "cells": [
  {
   "cell_type": "code",
   "execution_count": 1,
   "metadata": {},
   "outputs": [],
   "source": [
    "import pandas as pd\n",
    "import numpy as np\n",
    "import matplotlib.pyplot as plt\n",
    "import seaborn as sns\n",
    "import matplotlib.dates as mdates\n",
    "\n",
    "# read \"mpd_stats.csv\" with relative path\n",
    "mpd_stats = pd.read_csv('Input_Data/mpd_stats.csv', skiprows=2, header = 1)\n"
   ]
  },
  {
   "cell_type": "code",
   "execution_count": 2,
   "metadata": {},
   "outputs": [],
   "source": [
    "# convert the \"Date\" column to datetime\n",
    "mpd_stats[\"idt\"] = pd.to_datetime(mpd_stats[\"idt\"])\n",
    "\n",
    "#rename the idt column to Date\n",
    "mpd_stats.rename(columns = {\"idt\":\"Date\"}, inplace = True)"
   ]
  },
  {
   "cell_type": "code",
   "execution_count": 3,
   "metadata": {},
   "outputs": [
    {
     "name": "stdout",
     "output_type": "stream",
     "text": [
      "<class 'pandas.core.frame.DataFrame'>\n",
      "RangeIndex: 12249 entries, 0 to 12248\n",
      "Data columns (total 14 columns):\n",
      " #   Column           Non-Null Count  Dtype         \n",
      "---  ------           --------------  -----         \n",
      " 0   market           12249 non-null  object        \n",
      " 1   Date             12249 non-null  datetime64[ns]\n",
      " 2   maturity_target  11294 non-null  float64       \n",
      " 3   mu               12245 non-null  float64       \n",
      " 4   sd               12245 non-null  float64       \n",
      " 5   skew             12245 non-null  float64       \n",
      " 6   kurt             12245 non-null  float64       \n",
      " 7   p10              11345 non-null  float64       \n",
      " 8   p50              12249 non-null  float64       \n",
      " 9   p90              12249 non-null  float64       \n",
      " 10  lg_change_decr   12230 non-null  float64       \n",
      " 11  prDec            12249 non-null  float64       \n",
      " 12  lg_change_incr   12230 non-null  float64       \n",
      " 13  prInc            11988 non-null  float64       \n",
      "dtypes: datetime64[ns](1), float64(12), object(1)\n",
      "memory usage: 1.3+ MB\n"
     ]
    }
   ],
   "source": [
    "mpd_stats.info()"
   ]
  },
  {
   "cell_type": "code",
   "execution_count": 4,
   "metadata": {},
   "outputs": [
    {
     "data": {
      "text/plain": [
       "(12249, 14)"
      ]
     },
     "execution_count": 4,
     "metadata": {},
     "output_type": "execute_result"
    }
   ],
   "source": [
    "mpd_stats.shape"
   ]
  },
  {
   "cell_type": "code",
   "execution_count": 5,
   "metadata": {},
   "outputs": [
    {
     "data": {
      "text/plain": [
       "market               0\n",
       "Date                 0\n",
       "maturity_target    955\n",
       "mu                   4\n",
       "sd                   4\n",
       "skew                 4\n",
       "kurt                 4\n",
       "p10                904\n",
       "p50                  0\n",
       "p90                  0\n",
       "lg_change_decr      19\n",
       "prDec                0\n",
       "lg_change_incr      19\n",
       "prInc              261\n",
       "dtype: int64"
      ]
     },
     "execution_count": 5,
     "metadata": {},
     "output_type": "execute_result"
    }
   ],
   "source": [
    "# check for missing values\n",
    "mpd_stats.isnull().sum()"
   ]
  },
  {
   "cell_type": "code",
   "execution_count": 6,
   "metadata": {},
   "outputs": [
    {
     "name": "stdout",
     "output_type": "stream",
     "text": [
      "Number of Unique market variables:  14\n",
      "Listed Market Variables:  ['bac' 'citi' 'corn' 'euro' 'gold' 'infl5y' 'iyr' 'pound' 'silver'\n",
      " 'soybns' 'sp12m' 'sp6m' 'wheat' 'yen']\n"
     ]
    }
   ],
   "source": [
    "# # Filter rows where 'Date' is between 2010 and 2023\n",
    "# filtered_mpd_stats = mpd_stats[(mpd_stats['Date'].dt.year >= 2012) & (mpd_stats['Date'].dt.year <= 2023)].copy()\n",
    "# Filtering the dataset to include only the records from the year 2012 onwards\n",
    "filtered_mpd_stats = mpd_stats[(mpd_stats['Date'].dt.year >= 2012)].copy()\n",
    "\n",
    "# Extract year from Date for easier analysis\n",
    "filtered_mpd_stats['Year'] = filtered_mpd_stats['Date'].dt.year\n",
    "\n",
    "# Identify markets that have data for each year in the range 2013 to 2023\n",
    "years = range(2012, 2024)  # 2023 is inclusive\n",
    "markets_with_complete_data = filtered_mpd_stats.groupby('market').filter(lambda x: all(y in x['Year'].values for y in years))['market'].unique()\n",
    "\n",
    "# Filter the original dataframe to keep only the markets identified\n",
    "mpd_stats_filtered_complete = mpd_stats[mpd_stats['market'].isin(markets_with_complete_data)]\n",
    "\n",
    "# # remove rows that date is before 2013 jan 10\n",
    "mpd_stats_filtered_complete = mpd_stats_filtered_complete[mpd_stats_filtered_complete['Date'] >= '2013-01-10']\n",
    "\n",
    "print(\"Number of Unique market variables: \", len(mpd_stats_filtered_complete['market'].unique()))\n",
    "print(\"Listed Market Variables: \", mpd_stats_filtered_complete['market'].unique())"
   ]
  },
  {
   "cell_type": "code",
   "execution_count": 7,
   "metadata": {},
   "outputs": [
    {
     "name": "stdout",
     "output_type": "stream",
     "text": [
      "       start_date   end_date\n",
      "market                      \n",
      "bac    2013-01-10 2024-02-07\n",
      "citi   2013-01-10 2024-02-07\n",
      "corn   2013-01-10 2024-02-07\n",
      "euro   2013-01-10 2024-02-07\n",
      "gold   2013-01-10 2024-02-07\n",
      "infl5y 2013-01-10 2024-02-07\n",
      "iyr    2013-01-10 2024-02-07\n",
      "pound  2013-01-10 2024-02-07\n",
      "silver 2013-01-10 2024-02-07\n",
      "soybns 2013-01-10 2024-02-07\n",
      "sp12m  2013-01-10 2024-02-07\n",
      "sp6m   2013-01-10 2024-02-07\n",
      "wheat  2013-01-10 2024-02-07\n",
      "yen    2013-01-10 2024-02-07\n"
     ]
    }
   ],
   "source": [
    "# print the staring and ending date for each market in mpd_stats_filtered_complete\n",
    "start_end_dates = mpd_stats_filtered_complete.groupby('market').agg(start_date=('Date', 'min'), end_date=('Date', 'max'))\n",
    "print(start_end_dates)"
   ]
  },
  {
   "cell_type": "markdown",
   "metadata": {},
   "source": [
    "Upsampling for weekly data by forward filling, as majority of the market data frequency are in weekly basis"
   ]
  },
  {
   "cell_type": "code",
   "execution_count": 8,
   "metadata": {},
   "outputs": [],
   "source": [
    "mpd_stats_filtered_complete.set_index('Date', inplace=True)"
   ]
  },
  {
   "cell_type": "code",
   "execution_count": 9,
   "metadata": {},
   "outputs": [
    {
     "data": {
      "text/plain": [
       "(7627, 13)"
      ]
     },
     "execution_count": 9,
     "metadata": {},
     "output_type": "execute_result"
    }
   ],
   "source": [
    "mpd_stats_filtered_complete.shape"
   ]
  },
  {
   "cell_type": "code",
   "execution_count": 10,
   "metadata": {},
   "outputs": [],
   "source": [
    "# Ensure 'Date' is the DataFrame index\n",
    "# mpd_stats_filtered_complete.set_index('Date', inplace=True)\n",
    "\n",
    "def resample_and_fill(group):\n",
    "    # Define the cutoff date\n",
    "    cutoff_date = '2014-09-04'\n",
    "    \n",
    "    # Filter the group for dates before the cutoff\n",
    "    group_before_cutoff = group[:cutoff_date]\n",
    "    \n",
    "    # Resample to weekly frequency and forward fill\n",
    "    group_resampled = group_before_cutoff.resample('W-Thu').ffill()\n",
    "    \n",
    "    # Concatenate with the part of the group after the cutoff date\n",
    "    # group_after_cutoff = group[cutoff_date:]\n",
    "    # Adjust the slicing to exclude the cutoff date from the second part\n",
    "    group_after_cutoff = group[pd.to_datetime(cutoff_date) + pd.Timedelta(days=1):]\n",
    "    result = pd.concat([group_resampled, group_after_cutoff])\n",
    "    \n",
    "    return result\n",
    "\n",
    "# Apply the function to each group and combine the results\n",
    "mpd_stats_weekly = mpd_stats_filtered_complete.groupby('market', group_keys=False).apply(resample_and_fill)\n",
    "\n",
    "# Reset the index if necessary\n",
    "mpd_stats_weekly.reset_index(inplace=True)"
   ]
  },
  {
   "cell_type": "code",
   "execution_count": 11,
   "metadata": {},
   "outputs": [
    {
     "data": {
      "text/plain": [
       "(8081, 14)"
      ]
     },
     "execution_count": 11,
     "metadata": {},
     "output_type": "execute_result"
    }
   ],
   "source": [
    "mpd_stats_weekly.shape"
   ]
  },
  {
   "cell_type": "code",
   "execution_count": 12,
   "metadata": {},
   "outputs": [
    {
     "name": "stdout",
     "output_type": "stream",
     "text": [
      "Date               0\n",
      "market             0\n",
      "maturity_target    0\n",
      "mu                 0\n",
      "sd                 0\n",
      "skew               0\n",
      "kurt               0\n",
      "p10                0\n",
      "p50                0\n",
      "p90                0\n",
      "lg_change_decr     0\n",
      "prDec              0\n",
      "lg_change_incr     0\n",
      "prInc              0\n",
      "dtype: int64\n"
     ]
    }
   ],
   "source": [
    "mpd_stats_weekly.fillna(method='ffill', inplace=True)\n",
    "nan_rows = mpd_stats_weekly.isnull().sum()\n",
    "print(nan_rows)"
   ]
  },
  {
   "cell_type": "code",
   "execution_count": 13,
   "metadata": {},
   "outputs": [
    {
     "data": {
      "text/plain": [
       "market\n",
       "bac       578\n",
       "citi      578\n",
       "corn      578\n",
       "euro      578\n",
       "gold      578\n",
       "infl5y    571\n",
       "iyr       577\n",
       "pound     578\n",
       "silver    575\n",
       "soybns    578\n",
       "sp12m     578\n",
       "sp6m      578\n",
       "wheat     578\n",
       "yen       578\n",
       "dtype: int64"
      ]
     },
     "execution_count": 13,
     "metadata": {},
     "output_type": "execute_result"
    }
   ],
   "source": [
    "# check the number of rows for each market\n",
    "mpd_stats_weekly.groupby('market').size()"
   ]
  },
  {
   "cell_type": "markdown",
   "metadata": {},
   "source": [
    "### Feature Engineering: need to do some layout modification for regression"
   ]
  },
  {
   "cell_type": "code",
   "execution_count": 14,
   "metadata": {},
   "outputs": [
    {
     "data": {
      "text/plain": [
       "array(['bac', 'citi', 'corn', 'euro', 'gold', 'infl5y', 'iyr', 'pound',\n",
       "       'silver', 'soybns', 'sp12m', 'sp6m', 'wheat', 'yen'], dtype=object)"
      ]
     },
     "execution_count": 14,
     "metadata": {},
     "output_type": "execute_result"
    }
   ],
   "source": [
    "mpd_stats_weekly['market'].unique()"
   ]
  },
  {
   "cell_type": "code",
   "execution_count": 15,
   "metadata": {},
   "outputs": [
    {
     "name": "stdout",
     "output_type": "stream",
     "text": [
      "<class 'pandas.core.frame.DataFrame'>\n",
      "RangeIndex: 8081 entries, 0 to 8080\n",
      "Data columns (total 14 columns):\n",
      " #   Column           Non-Null Count  Dtype         \n",
      "---  ------           --------------  -----         \n",
      " 0   Date             8081 non-null   datetime64[ns]\n",
      " 1   market           8081 non-null   object        \n",
      " 2   maturity_target  8081 non-null   float64       \n",
      " 3   mu               8081 non-null   float64       \n",
      " 4   sd               8081 non-null   float64       \n",
      " 5   skew             8081 non-null   float64       \n",
      " 6   kurt             8081 non-null   float64       \n",
      " 7   p10              8081 non-null   float64       \n",
      " 8   p50              8081 non-null   float64       \n",
      " 9   p90              8081 non-null   float64       \n",
      " 10  lg_change_decr   8081 non-null   float64       \n",
      " 11  prDec            8081 non-null   float64       \n",
      " 12  lg_change_incr   8081 non-null   float64       \n",
      " 13  prInc            8081 non-null   float64       \n",
      "dtypes: datetime64[ns](1), float64(12), object(1)\n",
      "memory usage: 884.0+ KB\n"
     ]
    }
   ],
   "source": [
    "mpd_stats_weekly.info()"
   ]
  },
  {
   "cell_type": "code",
   "execution_count": 16,
   "metadata": {},
   "outputs": [],
   "source": [
    "# create a df for each market with column name of market\n",
    "features = pd.DataFrame(mpd_stats_weekly['market'].unique(), columns=['market'])\n",
    "# add a column for with the name of feature_id\n",
    "features['feature_name'] = mpd_stats_weekly['market'].unique()\n",
    "# rename the market column to market category\n",
    "features.rename(columns = {\"market\":\"market_category\"}, inplace = True)\n",
    "\n"
   ]
  },
  {
   "cell_type": "code",
   "execution_count": 17,
   "metadata": {},
   "outputs": [],
   "source": [
    "# if the feature_id has \"bac\" 'citi', then change market_category to \"Bank\"\n",
    "features.loc[features['feature_name'].isin(['bac', 'citi']), 'market_category'] = 'Bank'\n",
    "# if the feature_id has \"silver\", \"corn\", \"soybns\", \"gold\", 'iyr', 'wheat', then change market_category to \"Commodity\"\n",
    "features.loc[features['feature_name'].isin(['silver', 'corn', 'soybns', 'gold', 'iyr', 'wheat']), 'market_category'] = 'Commodity'\n",
    "# if the feature_id has 'yen', 'euro', 'pound', then change market_category to \"Currency\"\n",
    "features.loc[features['feature_name'].isin(['yen', 'euro', 'pound']), 'market_category'] = 'Currency'\n",
    "# if the feature_id has 'sp12m', 'sp6m', then change market_category to \"Equity\"\n",
    "features.loc[features['feature_name'].isin(['sp12m', 'sp6m']), 'market_category'] = 'Equity'\n",
    "# if the feature_id has 'infl1y',  'infl2y', 'infl5y', then change market_category to \"Inflation\"\n",
    "features.loc[features['feature_name'].isin(['infl1y', 'infl2y', 'infl5y']), 'market_category'] = 'Inflation'\n",
    "# if the feature_id has 'tr10yr', 'tr5yr', 'LR3y3m','LR5y3m' then change market_category to \"Rates\"\n",
    "features.loc[features['feature_name'].isin(['tr10yr', 'tr5yr', 'LR3y3m','LR5y3m']), 'market_category'] = 'Rates'\n"
   ]
  },
  {
   "cell_type": "code",
   "execution_count": 18,
   "metadata": {},
   "outputs": [
    {
     "data": {
      "text/html": [
       "<div>\n",
       "<style scoped>\n",
       "    .dataframe tbody tr th:only-of-type {\n",
       "        vertical-align: middle;\n",
       "    }\n",
       "\n",
       "    .dataframe tbody tr th {\n",
       "        vertical-align: top;\n",
       "    }\n",
       "\n",
       "    .dataframe thead th {\n",
       "        text-align: right;\n",
       "    }\n",
       "</style>\n",
       "<table border=\"1\" class=\"dataframe\">\n",
       "  <thead>\n",
       "    <tr style=\"text-align: right;\">\n",
       "      <th></th>\n",
       "      <th>market_category</th>\n",
       "      <th>feature_name</th>\n",
       "      <th>id</th>\n",
       "    </tr>\n",
       "  </thead>\n",
       "  <tbody>\n",
       "    <tr>\n",
       "      <th>0</th>\n",
       "      <td>Bank</td>\n",
       "      <td>bac</td>\n",
       "      <td>1</td>\n",
       "    </tr>\n",
       "    <tr>\n",
       "      <th>1</th>\n",
       "      <td>Bank</td>\n",
       "      <td>citi</td>\n",
       "      <td>2</td>\n",
       "    </tr>\n",
       "    <tr>\n",
       "      <th>2</th>\n",
       "      <td>Commodity</td>\n",
       "      <td>corn</td>\n",
       "      <td>3</td>\n",
       "    </tr>\n",
       "    <tr>\n",
       "      <th>3</th>\n",
       "      <td>Currency</td>\n",
       "      <td>euro</td>\n",
       "      <td>4</td>\n",
       "    </tr>\n",
       "    <tr>\n",
       "      <th>4</th>\n",
       "      <td>Commodity</td>\n",
       "      <td>gold</td>\n",
       "      <td>5</td>\n",
       "    </tr>\n",
       "    <tr>\n",
       "      <th>5</th>\n",
       "      <td>Inflation</td>\n",
       "      <td>infl5y</td>\n",
       "      <td>6</td>\n",
       "    </tr>\n",
       "    <tr>\n",
       "      <th>6</th>\n",
       "      <td>Commodity</td>\n",
       "      <td>iyr</td>\n",
       "      <td>7</td>\n",
       "    </tr>\n",
       "    <tr>\n",
       "      <th>7</th>\n",
       "      <td>Currency</td>\n",
       "      <td>pound</td>\n",
       "      <td>8</td>\n",
       "    </tr>\n",
       "    <tr>\n",
       "      <th>8</th>\n",
       "      <td>Commodity</td>\n",
       "      <td>silver</td>\n",
       "      <td>9</td>\n",
       "    </tr>\n",
       "    <tr>\n",
       "      <th>9</th>\n",
       "      <td>Commodity</td>\n",
       "      <td>soybns</td>\n",
       "      <td>10</td>\n",
       "    </tr>\n",
       "    <tr>\n",
       "      <th>10</th>\n",
       "      <td>Equity</td>\n",
       "      <td>sp12m</td>\n",
       "      <td>11</td>\n",
       "    </tr>\n",
       "    <tr>\n",
       "      <th>11</th>\n",
       "      <td>Equity</td>\n",
       "      <td>sp6m</td>\n",
       "      <td>12</td>\n",
       "    </tr>\n",
       "    <tr>\n",
       "      <th>12</th>\n",
       "      <td>Commodity</td>\n",
       "      <td>wheat</td>\n",
       "      <td>13</td>\n",
       "    </tr>\n",
       "    <tr>\n",
       "      <th>13</th>\n",
       "      <td>Currency</td>\n",
       "      <td>yen</td>\n",
       "      <td>14</td>\n",
       "    </tr>\n",
       "  </tbody>\n",
       "</table>\n",
       "</div>"
      ],
      "text/plain": [
       "   market_category feature_name  id\n",
       "0             Bank          bac   1\n",
       "1             Bank         citi   2\n",
       "2        Commodity         corn   3\n",
       "3         Currency         euro   4\n",
       "4        Commodity         gold   5\n",
       "5        Inflation       infl5y   6\n",
       "6        Commodity          iyr   7\n",
       "7         Currency        pound   8\n",
       "8        Commodity       silver   9\n",
       "9        Commodity       soybns  10\n",
       "10          Equity        sp12m  11\n",
       "11          Equity         sp6m  12\n",
       "12       Commodity        wheat  13\n",
       "13        Currency          yen  14"
      ]
     },
     "execution_count": 18,
     "metadata": {},
     "output_type": "execute_result"
    }
   ],
   "source": [
    "# group the features by market_category\n",
    "features = features.sort_values(by='feature_name')\n",
    "# add id number for each feature\n",
    "features['id'] = range(1, len(features) + 1)\n",
    "features"
   ]
  },
  {
   "cell_type": "code",
   "execution_count": 19,
   "metadata": {},
   "outputs": [],
   "source": [
    "# Create a dictionary to map market names to feature IDs\n",
    "market_to_id = features.set_index('feature_name')['id'].to_dict()\n",
    "\n",
    "# Initialize df_feature_engineered with the Date column\n",
    "df_feature_engineered = pd.DataFrame(mpd_stats_weekly[mpd_stats_weekly['market'] == 'bac']['Date'].copy()).drop_duplicates()\n",
    "\n",
    "# Iterate over each market to merge its data into df_feature_engineered\n",
    "for market in mpd_stats_weekly['market'].unique():\n",
    "    # Select the data for the current market, excluding the 'market' column\n",
    "    market_data = mpd_stats_weekly[mpd_stats_weekly['market'] == market].drop(columns=['market']).copy()\n",
    "    \n",
    "    # Get the feature ID for the current market\n",
    "    feature_id = market_to_id[market]\n",
    "    \n",
    "    # Rename the columns based on the feature ID, except for 'Date'\n",
    "    market_data.rename(columns={col: f'f{feature_id}_{col}' for col in market_data.columns if col != 'Date'}, inplace=True)\n",
    "    \n",
    "    # Merge the data into df_feature_engineered\n",
    "    df_feature_engineered = df_feature_engineered.merge(market_data, on='Date', how='left')\n",
    "\n",
    "# This ensures that the 'market' column is not included in the final DataFrame"
   ]
  },
  {
   "cell_type": "code",
   "execution_count": 20,
   "metadata": {},
   "outputs": [
    {
     "data": {
      "text/plain": [
       "(578, 169)"
      ]
     },
     "execution_count": 20,
     "metadata": {},
     "output_type": "execute_result"
    }
   ],
   "source": [
    "df_feature_engineered.shape"
   ]
  },
  {
   "cell_type": "code",
   "execution_count": 21,
   "metadata": {},
   "outputs": [
    {
     "name": "stdout",
     "output_type": "stream",
     "text": [
      "Date                  0\n",
      "f1_maturity_target    0\n",
      "f1_mu                 0\n",
      "f1_sd                 0\n",
      "f1_skew               0\n",
      "                     ..\n",
      "f14_p90               1\n",
      "f14_lg_change_decr    1\n",
      "f14_prDec             1\n",
      "f14_lg_change_incr    1\n",
      "f14_prInc             1\n",
      "Length: 169, dtype: int64\n"
     ]
    }
   ],
   "source": [
    "# find nan values or missing values\n",
    "nan_rows = df_feature_engineered.isnull().sum()\n",
    "# To show full output without truncation\n",
    "pd.set_option('display.max_rows', 50)\n",
    "print(nan_rows)"
   ]
  },
  {
   "cell_type": "markdown",
   "metadata": {},
   "source": [
    "Fill Missing Value: Interpolation: This method is useful for time series data. It fills missing values time-weighted interpolation, based on the index, avioding future looking bias"
   ]
  },
  {
   "cell_type": "code",
   "execution_count": 22,
   "metadata": {},
   "outputs": [],
   "source": [
    "# Interpolate missing values linearly without using future data\n",
    "df_feature_engineered['Date'] = pd.to_datetime(df_feature_engineered['Date'])\n",
    "df_feature_engineered.set_index('Date', inplace=True)\n",
    "df_feature_engineered.interpolate(method='time', inplace=True)"
   ]
  },
  {
   "cell_type": "code",
   "execution_count": 23,
   "metadata": {},
   "outputs": [],
   "source": [
    "# reset index\n",
    "df_feature_engineered.reset_index(inplace=True)\n",
    "# to csv\n",
    "df_feature_engineered.to_csv('Output_Data/cleaned_feature_engineered_mpd.csv', index=False)"
   ]
  }
 ],
 "metadata": {
  "kernelspec": {
   "display_name": "Python 3",
   "language": "python",
   "name": "python3"
  },
  "language_info": {
   "codemirror_mode": {
    "name": "ipython",
    "version": 3
   },
   "file_extension": ".py",
   "mimetype": "text/x-python",
   "name": "python",
   "nbconvert_exporter": "python",
   "pygments_lexer": "ipython3",
   "version": "3.9.6"
  }
 },
 "nbformat": 4,
 "nbformat_minor": 2
}
